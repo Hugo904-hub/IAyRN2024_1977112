{
  "nbformat": 4,
  "nbformat_minor": 0,
  "metadata": {
    "colab": {
      "provenance": [],
      "authorship_tag": "ABX9TyMFa5LjAh/uvOo6eXI3zluE",
      "include_colab_link": true
    },
    "kernelspec": {
      "name": "python3",
      "display_name": "Python 3"
    },
    "language_info": {
      "name": "python"
    }
  },
  "cells": [
    {
      "cell_type": "markdown",
      "metadata": {
        "id": "view-in-github",
        "colab_type": "text"
      },
      "source": [
        "<a href=\"https://colab.research.google.com/github/Hugo904-hub/IAyRN2024_1977112/blob/main/Actividades.ipynb\" target=\"_parent\"><img src=\"https://colab.research.google.com/assets/colab-badge.svg\" alt=\"Open In Colab\"/></a>"
      ]
    },
    {
      "cell_type": "code",
      "execution_count": 7,
      "metadata": {
        "colab": {
          "base_uri": "https://localhost:8080/"
        },
        "id": "NW4x8sDjUo74",
        "outputId": "2d89d6c3-946f-4af6-cfbd-89a861e08c97"
      },
      "outputs": [
        {
          "output_type": "stream",
          "name": "stdout",
          "text": [
            "Introduce tu nombre: Juana\n",
            "Hola Juana!\n"
          ]
        }
      ],
      "source": [
        "\"\"\"Desarrolla un algoritmo que le pida al usuario por su nombre y que lo salude, excepto si se llama Ana, Juan y Pedro \"\"\"\n",
        "nombre = input( \"Introduce tu nombre: \")\n",
        "if nombre == \"Ana\" or nombre == \"Juan\" or nombre == \"Pedro\":\n",
        "  print (\"Excepción\")\n",
        "else:\n",
        "  print (\"Hola \" + nombre + \"!\")\n"
      ]
    },
    {
      "cell_type": "code",
      "source": [
        "\"\"\"Desarrolla un algoritmo que por medio de una función, le pida al usuario una lista de N elementos y como resultado invierta el sentido de la lista\"\"\"\n",
        "Lista1 = []\n",
        "print(\"Cantidad de N elementos?\")\n",
        "cant = int(input())\n",
        "i=0\n",
        "while i<cant:\n",
        "  print(\"Ingrese el elemento\" , i+1)\n",
        "  nom = input()\n",
        "  Lista1.append(nom)\n",
        "  i+=1\n",
        "\n",
        "  ListaREV = Lista1 [:]\n",
        "  ListaREV.reverse()\n",
        "\n",
        "  print(ListaREV)\n"
      ],
      "metadata": {
        "colab": {
          "base_uri": "https://localhost:8080/"
        },
        "id": "SioaL46OYPv8",
        "outputId": "a7084920-603a-4fc7-c01f-1ae89fb74bb4"
      },
      "execution_count": 16,
      "outputs": [
        {
          "output_type": "stream",
          "name": "stdout",
          "text": [
            "Cantidad de N elementos?\n",
            "4\n",
            "Ingrese el elemento 1\n",
            "Apple\n",
            "['Apple']\n",
            "Ingrese el elemento 2\n",
            "Sandia\n",
            "['Sandia', 'Apple']\n",
            "Ingrese el elemento 3\n",
            "Uva\n",
            "['Uva', 'Sandia', 'Apple']\n",
            "Ingrese el elemento 4\n",
            "Guayaba\n",
            "['Guayaba', 'Uva', 'Sandia', 'Apple']\n"
          ]
        }
      ]
    },
    {
      "cell_type": "code",
      "source": [
        "\"\"\"Desarrolla un algoritmo que le pregunte al usuario cuantos numeros de la serie de Fibonacci quiere generar y que al final los imprima\"\"\"\n",
        "numero= int(input(\"Introduzca la cantidad de numeros: \"))\n",
        "penultimo=1\n",
        "ultimo=1\n",
        "if numero==1:\n",
        "  print(0)\n",
        "elif numero==2:\n",
        "  print(0,1)\n",
        "elif numero==3:\n",
        "  print(0,1,1)\n",
        "else:\n",
        "  print(0,1,1, end = \" \")\n",
        "  for i in range(numero-3):\n",
        "    Nuevo= ultimo+penultimo\n",
        "    print(Nuevo, end = \" \")\n",
        "    penultimo=ultimo\n",
        "    ultimo=Nuevo"
      ],
      "metadata": {
        "colab": {
          "base_uri": "https://localhost:8080/"
        },
        "id": "Y7OvxuuLeSct",
        "outputId": "b4c150fc-0caa-48c5-d0d4-20521b39c809"
      },
      "execution_count": 21,
      "outputs": [
        {
          "output_type": "stream",
          "name": "stdout",
          "text": [
            "Introduzca la cantidad de numeros: 11\n",
            "0 1 1 2 3 5 8 13 21 34 55 "
          ]
        }
      ]
    },
    {
      "cell_type": "code",
      "source": [
        "\"\"\"Crea un programa que genere un numero aleatorio entre 1 y 100, y luego le pida al usuario que adivine el numero. El programa debe proporcionar pistas.\"\"\"\n",
        "import random\n",
        "Intentos=0\n",
        "NumeroMin=1\n",
        "NumeroMax=100\n",
        "\n",
        "numero = random.randint(NumeroMin, NumeroMax)\n",
        "print(\"Bienvenido al juego cual es tu nombre: \")\n",
        "NombreUsuario = input ()\n",
        "print(\"Bueno,\" + NombreUsuario + \" Estoy pensando en un número entre \"  + str(NumeroMin) + \" y \" + str(NumeroMax) )\n",
        "\n",
        "while Intentos < 8:\n",
        "  print(\"En que numero pienso: \")\n",
        "  adivina = input()\n",
        "  adivina = int(adivina)\n",
        "\n",
        "  Intentos = Intentos + 1\n",
        "  if adivina < numero:\n",
        "    print (\"Tu numero es menor\")\n",
        "  if adivina > numero:\n",
        "    print (\"Tu numero es mayor\")\n",
        "  if adivina == numero:\n",
        "    break\n",
        "if adivina == numero:\n",
        "  print(\"Adivinaste!!\")"
      ],
      "metadata": {
        "colab": {
          "base_uri": "https://localhost:8080/"
        },
        "id": "T6z33If1jldd",
        "outputId": "5ed85222-29ca-4a4e-82a7-337947ddbaa7"
      },
      "execution_count": 26,
      "outputs": [
        {
          "output_type": "stream",
          "name": "stdout",
          "text": [
            "Bienvenido al juego cual es tu nombre: \n",
            "Hugo\n",
            "Bueno,Hugo Estoy pensando en un número entre 1y 100\n",
            "En que numero pienso: \n",
            "60\n",
            "Tu numero es mayor\n",
            "En que numero pienso: \n",
            "50\n",
            "Tu numero es mayor\n",
            "En que numero pienso: \n",
            "40\n",
            "Tu numero es mayor\n",
            "En que numero pienso: \n",
            "30\n",
            "Tu numero es mayor\n",
            "En que numero pienso: \n",
            "20\n",
            "Tu numero es mayor\n",
            "En que numero pienso: \n",
            "10\n",
            "Tu numero es mayor\n",
            "En que numero pienso: \n",
            "5\n",
            "Tu numero es mayor\n",
            "En que numero pienso: \n",
            "4\n",
            "Adivinaste!!\n"
          ]
        }
      ]
    },
    {
      "cell_type": "code",
      "source": [
        "\"\"\"Escribe un programa a que solicite al usuario un rango de numeros y muestre todos los numeros primos dentro de ese rango\"\"\"\n",
        "L = int(input(\"Introduzca el numero mas bajo: \"))\n",
        "U= int(input(\"Introduzca el numero mas alto: \"))\n",
        "\n",
        "print(\"Los numeros primos en el rango son: \")\n",
        "for y in range (L, U + 1):\n",
        "  if y > 1:\n",
        "    for i in range (2, y):\n",
        "      if (y % i) == 0:\n",
        "        break\n",
        "      else:\n",
        "        print(y)\n"
      ],
      "metadata": {
        "colab": {
          "base_uri": "https://localhost:8080/"
        },
        "id": "YesRHu5os94z",
        "outputId": "079b3d6e-48a7-43ce-c199-b592b8044bf0"
      },
      "execution_count": 51,
      "outputs": [
        {
          "output_type": "stream",
          "name": "stdout",
          "text": [
            "Introduzca el numero mas bajo: 1\n",
            "Introduzca el numero mas alto: 5\n",
            "Los numeros primos en el rango son: \n",
            "3\n",
            "5\n",
            "5\n",
            "5\n"
          ]
        }
      ]
    },
    {
      "cell_type": "code",
      "source": [
        "\"\"\"Escribe un programa a que solicite al usuario dos numeros y realice operaciones basicas como suma, resta, multiplicacion y division\"\"\"\n",
        "a= int(input(\"Primer numero: \"))\n",
        "b= int(input(\"Segundo numero: \"))\n",
        "s= a + b\n",
        "r= a - b\n",
        "m= a * b\n",
        "d= a / b\n",
        "print (\"La suma es:\", s)\n",
        "print (\"La resta es:\", r)\n",
        "print (\"El producto es:\", m)\n",
        "print (\"El cociente es:\", d)\n"
      ],
      "metadata": {
        "colab": {
          "base_uri": "https://localhost:8080/"
        },
        "id": "m5TZTFAXz85e",
        "outputId": "8503f3df-1a20-4ae1-f7f6-68162310bd3d"
      },
      "execution_count": 53,
      "outputs": [
        {
          "output_type": "stream",
          "name": "stdout",
          "text": [
            "Primer numero: 5\n",
            "Segundo numero: 5\n",
            "La suma es: 10\n",
            "La resta es: 0\n",
            "El producto es: 25\n",
            "El cociente es: 1.0\n"
          ]
        }
      ]
    }
  ]
}