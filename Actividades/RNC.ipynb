{
  "nbformat": 4,
  "nbformat_minor": 0,
  "metadata": {
    "colab": {
      "provenance": []
    },
    "kernelspec": {
      "name": "python3",
      "display_name": "Python 3"
    },
    "language_info": {
      "name": "python"
    }
  },
  "cells": [
    {
      "cell_type": "markdown",
      "source": [
        "Nombre: Hugo Andriy Sánchez Ramírez\n",
        "Matrícula: 1977112     Carrera: IMTC\n",
        "Hora clase: N4     Inteligencia Artificial y Redes Neuronales\n",
        "\n",
        "\n"
      ],
      "metadata": {
        "id": "bYWOco52DISe"
      }
    },
    {
      "cell_type": "markdown",
      "source": [
        "Se agregan las librerías que se van a utilizar"
      ],
      "metadata": {
        "id": "6VhYSqjIEUic"
      }
    },
    {
      "cell_type": "code",
      "execution_count": 42,
      "metadata": {
        "id": "xrPRWzqbP9On"
      },
      "outputs": [],
      "source": [
        "import numpy as np\n",
        "import matplotlib.pyplot as plt\n",
        "from keras.datasets import mnist\n",
        "from keras.models import Sequential\n",
        "from keras.layers import Conv2D, MaxPooling2D, Flatten, Dense\n",
        "from keras.utils import to_categorical"
      ]
    },
    {
      "cell_type": "code",
      "source": [
        "# Cargar datos MNIST\n",
        "(x_train, y_train), (x_test, y_test) = mnist.load_data()"
      ],
      "metadata": {
        "id": "Rh3cH4N5TrUm"
      },
      "execution_count": 43,
      "outputs": []
    },
    {
      "cell_type": "code",
      "source": [
        "class_names = ['cero', 'uno', 'dos', 'tres', 'cuatro',\n",
        "               'cinco', 'seis', 'siete', 'ocho', 'nueve']\n"
      ],
      "metadata": {
        "id": "m6JTWSqlU-4G"
      },
      "execution_count": 20,
      "outputs": []
    },
    {
      "cell_type": "code",
      "source": [
        "# Preprocesamiento de datos\n",
        "x_train = x_train.reshape(x_train.shape[0], 28, 28, 1).astype('float32') / 255\n",
        "x_test = x_test.reshape(x_test.shape[0], 28, 28, 1).astype('float32') / 255\n",
        "y_train = to_categorical(y_train, 10)\n",
        "y_test = to_categorical(y_test, 10)\n"
      ],
      "metadata": {
        "id": "kR7ZnU1SVjK9"
      },
      "execution_count": 44,
      "outputs": []
    },
    {
      "cell_type": "code",
      "source": [
        "# Definir modelo CNN\n",
        "model = Sequential()\n",
        "model.add(Conv2D(32, kernel_size=(3, 3), activation='relu', input_shape=(28, 28, 1)))\n",
        "model.add(MaxPooling2D(pool_size=(2, 2)))\n",
        "model.add(Conv2D(64, kernel_size=(3, 3), activation='relu'))\n",
        "model.add(MaxPooling2D(pool_size=(2, 2)))\n",
        "model.add(Flatten())\n",
        "model.add(Dense(128, activation='relu'))\n",
        "model.add(Dense(10, activation='softmax'))\n"
      ],
      "metadata": {
        "id": "tvPIS4EPW13_"
      },
      "execution_count": 45,
      "outputs": []
    },
    {
      "cell_type": "code",
      "source": [
        "# Compilar modelo\n",
        "model.compile(loss='categorical_crossentropy', optimizer='adam', metrics=['accuracy'])"
      ],
      "metadata": {
        "id": "RiOgwbL0XF5u"
      },
      "execution_count": 46,
      "outputs": []
    },
    {
      "cell_type": "code",
      "source": [
        "# Entrenar modelo\n",
        "model.fit(x_train, y_train, batch_size=128, epochs=5, verbose=1, validation_data=(x_test, y_test))\n",
        "\n"
      ],
      "metadata": {
        "colab": {
          "base_uri": "https://localhost:8080/"
        },
        "id": "4it3QpI7XKdY",
        "outputId": "5a2c99aa-df72-44e0-a793-30459a82eb71"
      },
      "execution_count": 47,
      "outputs": [
        {
          "output_type": "stream",
          "name": "stdout",
          "text": [
            "Epoch 1/5\n",
            "469/469 [==============================] - 47s 96ms/step - loss: 0.2140 - accuracy: 0.9378 - val_loss: 0.0611 - val_accuracy: 0.9809\n",
            "Epoch 2/5\n",
            "469/469 [==============================] - 43s 93ms/step - loss: 0.0567 - accuracy: 0.9827 - val_loss: 0.0428 - val_accuracy: 0.9866\n",
            "Epoch 3/5\n",
            "469/469 [==============================] - 46s 97ms/step - loss: 0.0393 - accuracy: 0.9878 - val_loss: 0.0333 - val_accuracy: 0.9885\n",
            "Epoch 4/5\n",
            "469/469 [==============================] - 42s 89ms/step - loss: 0.0292 - accuracy: 0.9909 - val_loss: 0.0335 - val_accuracy: 0.9893\n",
            "Epoch 5/5\n",
            "469/469 [==============================] - 41s 87ms/step - loss: 0.0228 - accuracy: 0.9930 - val_loss: 0.0265 - val_accuracy: 0.9908\n"
          ]
        },
        {
          "output_type": "execute_result",
          "data": {
            "text/plain": [
              "<keras.src.callbacks.History at 0x7cec7c3fc850>"
            ]
          },
          "metadata": {},
          "execution_count": 47
        }
      ]
    },
    {
      "cell_type": "code",
      "source": [
        "# Evaluar modelo\n",
        "score = model.evaluate(x_test, y_test, verbose=0)\n",
        "print(\"Test loss:\", score[0])\n",
        "print(\"Test accuracy:\", score[1])\n"
      ],
      "metadata": {
        "colab": {
          "base_uri": "https://localhost:8080/"
        },
        "id": "cPGj1zT2BVL2",
        "outputId": "dfaa0e4c-8093-4885-a0d7-4ba8353b0227"
      },
      "execution_count": 48,
      "outputs": [
        {
          "output_type": "stream",
          "name": "stdout",
          "text": [
            "Test loss: 0.02647700160741806\n",
            "Test accuracy: 0.9908000230789185\n"
          ]
        }
      ]
    },
    {
      "cell_type": "code",
      "source": [
        "# Hacer predicciones\n",
        "predictions = model.predict(x_test[:5])\n",
        "predicted_labels = np.argmax(predictions, axis=1)\n",
        "true_labels = np.argmax(y_test[:5], axis=1)\n",
        "\n"
      ],
      "metadata": {
        "id": "1r-BNzceXTyf",
        "colab": {
          "base_uri": "https://localhost:8080/"
        },
        "outputId": "06a238fb-d81a-4c6c-afd1-b14cb9ecd395"
      },
      "execution_count": 49,
      "outputs": [
        {
          "output_type": "stream",
          "name": "stdout",
          "text": [
            "1/1 [==============================] - 0s 164ms/step\n"
          ]
        }
      ]
    },
    {
      "cell_type": "code",
      "source": [
        "# Mostrar resultados\n",
        "print(\"Predicciones de la red neuronal:\")\n",
        "for i in range(5):\n",
        "    print(\"Predicción:\", predicted_labels[i], \" - Etiqueta verdadera:\", true_labels[i])\n"
      ],
      "metadata": {
        "colab": {
          "base_uri": "https://localhost:8080/"
        },
        "id": "BBOiDvmQX0x2",
        "outputId": "5f1d12eb-4236-4ffe-99b2-26c4844fcfc7"
      },
      "execution_count": 50,
      "outputs": [
        {
          "output_type": "stream",
          "name": "stdout",
          "text": [
            "Predicciones de la red neuronal:\n",
            "Predicción: 7  - Etiqueta verdadera: 7\n",
            "Predicción: 2  - Etiqueta verdadera: 2\n",
            "Predicción: 1  - Etiqueta verdadera: 1\n",
            "Predicción: 0  - Etiqueta verdadera: 0\n",
            "Predicción: 4  - Etiqueta verdadera: 4\n"
          ]
        }
      ]
    }
  ]
}